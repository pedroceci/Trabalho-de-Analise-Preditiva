{
 "cells": [
  {
   "cell_type": "code",
   "execution_count": 9,
   "id": "426058ed-138f-4c8b-9e6c-57b1bf5fc14d",
   "metadata": {},
   "outputs": [
    {
     "data": {
      "text/plain": [
       "<Figure size 1200x800 with 0 Axes>"
      ]
     },
     "metadata": {},
     "output_type": "display_data"
    }
   ],
   "source": [
    "from pandas import read_excel, to_datetime, Series\n",
    "import matplotlib.pyplot as plt\n",
    "import statsmodels.api as sm\n",
    "import os\n",
    "from matplotlib.ticker import StrMethodFormatter\n",
    "\n",
    "# Carregando a planilha\n",
    "path = r\"C:\\Users\\Jean Nery\\OneDrive\\Documentos\\Faculdade\\9º PERÍODO\\ANÁLISE PREDITIVA\\25.04.22.Dados.xlsx\"\n",
    "path_graphics = r\"C:\\Users\\Jean Nery\\OneDrive\\Documentos\\Faculdade\\9º PERÍODO\\ANÁLISE PREDITIVA\\Gráficos\"\n",
    "df = read_excel(path, sheet_name=\"2025.04.22\")\n",
    "\n",
    "# Convertendo a coluna de data e organizando a série temporal\n",
    "df['Timestamp'] = to_datetime(df['Timestamp'])\n",
    "df.set_index('Timestamp', inplace=True)\n",
    "\n",
    "# Frequência diária\n",
    "serie = df['Camisetas_básicas_masculinas'].asfreq('D')\n",
    "\n",
    "# Decomposição aditiva\n",
    "decomposicao = sm.tsa.seasonal_decompose(serie, model='additive', period=30)\n",
    "\n",
    "# Plotando os componentes: nível, tendência, sazonalidade e ruído\n",
    "plt.figure(figsize=(12, 8))\n",
    "decomposicao.plot()\n",
    "plt.suptitle('Decomposição da Série Temporal - Vendas Diárias de Camisetas', fontsize=14)\n",
    "plt.tight_layout()\n",
    "plt.savefig(os.path.join(path_graphics, \"decomposicao_series_temporais.png\"))\n",
    "plt.close()\n",
    "\n",
    "# Plotando gráfico mensal\n",
    "vendas_mensais = serie.resample('ME').sum() # agrupamento por mês\n",
    "\n",
    "fig, ax = plt.subplots(figsize=(12, 6)) # criação do gráfico\n",
    "barras = ax.bar(vendas_mensais.index.strftime('%b\\n%Y'), vendas_mensais.values, color='white', edgecolor='black')\n",
    "ax.set_facecolor('#2c2c2c')\n",
    "fig.patch.set_facecolor('#2c2c2c')\n",
    "ax.set_title('Volume de Vendas por Mês', fontsize=16, color='white')\n",
    "ax.set_ylabel('Volumes Vendidos', color='white')\n",
    "\n",
    "z = Series(vendas_mensais.values) # linha de tendência\n",
    "coef = Series(range(len(z)))\n",
    "ajuste = Series(Series(z).rolling(window=3, min_periods=1).mean())\n",
    "ax.plot(vendas_mensais.index.strftime('%b\\n%Y'), ajuste, color='orange', linewidth=2)\n",
    "\n",
    "ax.tick_params(colors='white') # estética\n",
    "ax.yaxis.set_major_formatter(StrMethodFormatter('{x:,.0f}'))\n",
    "plt.xticks(rotation=45)\n",
    "plt.grid(axis='y', linestyle='--', alpha=0.5)\n",
    "\n",
    "# Salvar\n",
    "plt.tight_layout()\n",
    "plt.savefig(os.path.join(path_graphics, \"grafico_mensal_vendas.png\"))\n",
    "plt.close()"
   ]
  },
  {
   "cell_type": "code",
   "execution_count": null,
   "id": "afdae495-98b0-4bde-bcaa-88639d8ea9a1",
   "metadata": {},
   "outputs": [],
   "source": []
  }
 ],
 "metadata": {
  "kernelspec": {
   "display_name": "Python 3 (ipykernel)",
   "language": "python",
   "name": "python3"
  },
  "language_info": {
   "codemirror_mode": {
    "name": "ipython",
    "version": 3
   },
   "file_extension": ".py",
   "mimetype": "text/x-python",
   "name": "python",
   "nbconvert_exporter": "python",
   "pygments_lexer": "ipython3",
   "version": "3.9.21"
  }
 },
 "nbformat": 4,
 "nbformat_minor": 5
}
